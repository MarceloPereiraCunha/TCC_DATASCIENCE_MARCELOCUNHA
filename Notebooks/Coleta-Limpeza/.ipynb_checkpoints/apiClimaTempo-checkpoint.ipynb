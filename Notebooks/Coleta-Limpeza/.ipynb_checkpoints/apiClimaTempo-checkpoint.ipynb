{
 "cells": [
  {
   "cell_type": "code",
   "execution_count": 1,
   "metadata": {},
   "outputs": [],
   "source": [
    "#Obtendo dados do ClimaTempo via API\n",
    "#Tutorial\n",
    "#https://www.youtube.com/watch?v=Rm1yjmj3yYc\n",
    "\n",
    "\n",
    "#API\n",
    "#https://advisor.climatempo.com.br/home/#!/tokens\n",
    "#Token para acessar API\n",
    "#5c71d869f5693cab0fb02c39da8d1cc4\n",
    "\n",
    "\n",
    "#documentacao em: http://apiadvisor.climatempo.com.br/doc/index.html\n",
    "import requests\n",
    "import json #pip install json\n",
    "\n",
    "iTOKEN = \"8c2f52e9921a6556790d9ff7a3f0275c\"\n",
    "#ID DE BHiCIDADE\n",
    "iCIDADE = \"6879\"\n",
    "\n",
    "#Codigo do tipo da consulta\n",
    "iTIPOCONSULTA = 1\n"
   ]
  },
  {
   "cell_type": "code",
   "execution_count": 2,
   "metadata": {},
   "outputs": [],
   "source": [
    "def buscaDados( iTIPOCONSULTA, iCITY, iTOKEN, iCIDADE ):\n",
    "    iTOKEN = \"Informe seu Token\"\n",
    "    iCIDADE = \"6879\"\n",
    "    iCITY = \"Belo Horizonte\"\n",
    "    iTOKEN = \"Informe seu Token\"\n",
    "    iCIDADE = \"Informe o ID da cidade vinculada ao seu Token\"\n",
    "\n",
    "    #Codigo do tipo da consulta\n",
    "    #iTIPOCONSULTA = 1\n",
    "\n",
    "    #1=Tempo agora na cidade\n",
    "    if iTIPOCONSULTA == 1:\n",
    "        iURL = \"http://apiadvisor.climatempo.com.br/api/v1/weather/locale/\" + iCIDADE + \"/current?token=\" + iTOKEN\n",
    "        iRESPONSE = requests.request(\"GET\", iURL)\n",
    "        iRETORNO_REQ = json.loads(iRESPONSE.text)\n",
    "        print(iRETORNO_REQ)\n",
    "\n",
    "        for iCHAVE in iRETORNO_REQ:\n",
    "            print(iCHAVE + \" : \" + str(iRETORNO_REQ[iCHAVE]))\n",
    "\n",
    "        for iCHAVE in iRETORNO_REQ['data']:\n",
    "            print(iCHAVE + \" : \" + str(iRETORNO_REQ['data'][iCHAVE]) )\n",
    "\n",
    "    #2=Status do tempo no país\n",
    "    if iTIPOCONSULTA == 2:\n",
    "        iURL = \"http://apiadvisor.climatempo.com.br/api/v1/anl/synoptic/locale/BR?token=\" + iTOKEN\n",
    "        iRESPONSE = requests.request(\"GET\", iURL)\n",
    "        iRETORNO_REQ = json.loads(iRESPONSE.text)\n",
    "        #print(iRETORNO_REQ)\n",
    "\n",
    "        for iCHAVE in iRETORNO_REQ:\n",
    "            print(\"Country: \" + iCHAVE.get('country'))\n",
    "            print(\"date: \" + iCHAVE.get('date'))\n",
    "            print(\"Text: \" + iCHAVE.get('text') + \"\\n\")\n",
    "\n",
    "    #3=Previsao para os proximas 15 dias\n",
    "    if iTIPOCONSULTA == 3:\n",
    "        iURL = \"http://apiadvisor.climatempo.com.br/api/v1/forecast/locale/\" + iCIDADE + \"/days/15?token=\" + iTOKEN\n",
    "        iRESPONSE = requests.request(\"GET\", iURL)\n",
    "        iRETORNO_REQ = json.loads(iRESPONSE.text)\n",
    "        #print(iRETORNO_REQ)\n",
    "        print(\"\\ncidade: \" + str(iRETORNO_REQ.get('name')) + \"-\" + str(iRETORNO_REQ.get('state')))\n",
    "        for iCHAVE in iRETORNO_REQ['data']:\n",
    "            iDATA = iCHAVE.get('date_br')\n",
    "            iCHUVA = iCHAVE['rain']['probability']\n",
    "            iTEXTMORNING = iCHAVE['text_icon']['text']['phrase']['reduced']\n",
    "            iTEMPERATURAMIN = iCHAVE['temperature']['min']\n",
    "            iTEMPERATURAMAX = iCHAVE['temperature']['min']\n",
    "            print(\"data: \" + str(iDATA) + \" chuva: \" + str(iCHUVA) + \"%\" + \" temp: min(\" + str(iTEMPERATURAMIN) + \") max(\" + str(iTEMPERATURAMAX) + \") resumo: \" + str(iTEXTMORNING) + \"\\n\")\n",
    "\n",
    "    #4=Previsao para os proximas 3 dias por regiao\n",
    "    if iTIPOCONSULTA == 4:\n",
    "        iURL = \"http://apiadvisor.climatempo.com.br/api/v1/forecast/region/centro-oeste?token=\" + iTOKEN\n",
    "        iRESPONSE = requests.request(\"GET\", iURL)\n",
    "        iRETORNO_REQ = json.loads(iRESPONSE.text)\n",
    "        #print(iRETORNO_REQ)\n",
    "\n",
    "        for iCHAVE in iRETORNO_REQ['data']:\n",
    "            iDATA = iCHAVE.get('date_br')\n",
    "            iTEXT = (iCHAVE.get('text'))\n",
    "            if iTEXT == None:\n",
    "                iTEXT = \"sem dados para esta data\"\n",
    "            print(\"data: \" + str(iDATA) + \" texto: \" + str(iTEXT) + \"\\n\")\n",
    "\n",
    "    #5=Previsao para as proximas 72 horas\n",
    "    if iTIPOCONSULTA == 5:\n",
    "        iURL = \"http://apiadvisor.climatempo.com.br/api/v1/forecast/locale/\" + iCIDADE + \"/hours/72?token=\" + iTOKEN\n",
    "        iRESPONSE = requests.request(\"GET\", iURL)\n",
    "        iRETORNO_REQ = json.loads(iRESPONSE.text)\n",
    "        #print(iRETORNO_REQ)\n",
    "\n",
    "        for iCHAVE in iRETORNO_REQ['data']:\n",
    "            iDATA = iCHAVE.get('date_br')\n",
    "            iTEMPERATURA = iCHAVE['temperature']['temperature']\n",
    "            print(\"data:\" + str(iDATA) + \" \" + str(iTEMPERATURA) + \"º\" + \"\\n\")\n",
    "\n",
    "    #6=Pesquisa ID da Cidade\n",
    "    if iTIPOCONSULTA == 6:\n",
    "        iCITY = input('Informe aqui o nome da cidade: ')\n",
    "        iURL = \"http://apiadvisor.climatempo.com.br/api/v1/locale/city?name=\" + iCITY + \"&token=\" + iTOKEN\n",
    "        iRESPONSE = requests.request(\"GET\", iURL)\n",
    "        iRETORNO_REQ = json.loads(iRESPONSE.text)\n",
    "        #print(iRETORNO_REQ)\n",
    "\n",
    "        for iCHAVE in iRETORNO_REQ:\n",
    "            iID = iCHAVE['id']\n",
    "            iNAME = iCHAVE['name']\n",
    "            iSTATE = iCHAVE['state']\n",
    "            iCOUNTRY = iCHAVE['country']\n",
    "            print(\"id:\" + str(iID) + \" - \" + \"stlocalesidate:\" + str(iSTATE) + \" - \" + \"country:\" + str(iCOUNTRY) + \" - \" + \"name:\" + str(iNAME) + \"\\n\") \n",
    "\n",
    "        iNEWCITY = input('Informe o ID da nova cidade ou 0(zero) para sair: ')\n",
    "        if iNEWCITY != \"0\":\n",
    "            iURL = \"http://apiadvisor.climatempo.com.br/api-manager/user-token/\"+ iTOKEN + \"/locales\" \n",
    "            payload=\"localeId[]=\" + iNEWCITY\n",
    "            headers = {\n",
    "            'Content-Type': 'application/x-www-form-urlencoded'\n",
    "            }\n",
    "            iRESPONSE = requests.request(\"PUT\", iURL, headers=headers, data=payload)\n",
    "            print(iRESPONSE.text)\n",
    "        else:\n",
    "            exit()\n",
    "\n",
    "    #7=Pesquisar o id da cidade vinculado ao seu Token\n",
    "    if iTIPOCONSULTA == 7:\n",
    "        iURL = \"http://apiadvisor.climatempo.com.br/api-manager/user-token/\" + iTOKEN + \"/locales\" \n",
    "        iRESPONSE = requests.request(\"GET\", iURL)\n",
    "        iRETORNO_REQ = json.loads(iRESPONSE.text)\n",
    "        print(\"id: \" + str(iRETORNO_REQ['locales']))\n",
    "\n",
    "    #8=Pesquisar a cidade por ID\n",
    "    if iTIPOCONSULTA == 8:\n",
    "        iURL = \"http://apiadvisor.climatempo.com.br/api/v1/locale/city/\" + iCIDADE + \"?token=\" + iTOKEN \n",
    "        iRESPONSE = requests.request(\"GET\", iURL)\n",
    "        iRETORNO_REQ = json.loads(iRESPONSE.text)\n",
    "        #print(iRETORNO_REQ)\n",
    "\n",
    "        print(\"id: \" + str(iRETORNO_REQ.get('id')))\n",
    "        print(\"name: \" + str(iRETORNO_REQ.get('name')))\n",
    "        print(\"state: \" + str(iRETORNO_REQ.get('state')))\n",
    "        print(\"country: \" + str(iRETORNO_REQ.get('country')) + \"\\n\")\n",
    "\n",
    "    #9=Alterar o ID da cidade relacionada ao Token\n",
    "    if iTIPOCONSULTA == 9:\n",
    "        iURL = \"http://apiadvisor.climatempo.com.br/api-manager/user-token/\"+ iTOKEN + \"/locales\" \n",
    "        payload=\"localeId[]=\" + iCIDADE\n",
    "        headers = {\n",
    "        'Content-Type': 'application/x-www-form-urlencoded'\n",
    "        }\n",
    "        iRESPONSE = requests.request(\"PUT\", iURL, headers=headers, data=payload)\n",
    "        print(iRESPONSE.text)\n",
    "\n",
    "        #################################################################\n",
    "        return\n",
    "    ###############################\n",
    "\n",
    "\n",
    "\n",
    "\n",
    "    "
   ]
  },
  {
   "cell_type": "code",
   "execution_count": 3,
   "metadata": {},
   "outputs": [],
   "source": [
    "#input: token e nome da cidade\n",
    "#output: código da cidade\n",
    "\n",
    "def buscaIDCidade (iTOKEN, iCITY):\n",
    "    iURL = \"http://apiadvisor.climatempo.com.br/api/v1/locale/city?name=\" + iCITY + \"&token=\" + iTOKEN\n",
    "    iRESPONSE = requests.request(\"GET\", iURL)\n",
    "    iRETORNO_REQ = json.loads(iRESPONSE.text)\n",
    "\n",
    "    for iCHAVE in iRETORNO_REQ:\n",
    "        iID = iCHAVE['id']\n",
    "        iNAME = iCHAVE['name']\n",
    "        iSTATE = iCHAVE['state']\n",
    "        iCOUNTRY = iCHAVE['country']\n",
    "    return str(iID)    "
   ]
  },
  {
   "cell_type": "code",
   "execution_count": 4,
   "metadata": {},
   "outputs": [
    {
     "name": "stdout",
     "output_type": "stream",
     "text": [
      "6879\n"
     ]
    }
   ],
   "source": [
    "#Teste buscaIDCidade()\n",
    "print(buscaIDCidade(iTOKEN, 'Belo Horizonte'))"
   ]
  },
  {
   "cell_type": "code",
   "execution_count": 5,
   "metadata": {},
   "outputs": [],
   "source": [
    "#inout: token, id Cidade\n",
    "#output: pressao, sensacao termica, temperatura e data\n",
    "\n",
    "def buscaDadosTempoAtual(iTOKEN, iCIDADE):\n",
    "    iURL = \"http://apiadvisor.climatempo.com.br/api/v1/weather/locale/\" + iCIDADE + \"/current?token=\" + iTOKEN\n",
    "    iRESPONSE = requests.request(\"GET\", iURL)\n",
    "    iRETORNO_REQ = json.loads(iRESPONSE.text)\n",
    "    #print(iRETORNO_REQ)\n",
    "\n",
    "    #for iCHAVE in iRETORNO_REQ:\n",
    "        #print(iCHAVE + \" : \" + str(iRETORNO_REQ[iCHAVE]))\n",
    "\n",
    "    #for iCHAVE in iRETORNO_REQ['data']:\n",
    "        #print(iCHAVE + \" : \" + str(iRETORNO_REQ['data'][iCHAVE]) )\n",
    "    dadosAtuais ={\n",
    "        'Pressao': iRETORNO_REQ['data']['pressure'],\n",
    "        'Sensacao': iRETORNO_REQ['data']['sensation'],\n",
    "        'Temperatura': iRETORNO_REQ['data']['temperature'],\n",
    "        'Data': iRETORNO_REQ['data']['date']\n",
    "    }\n",
    "    return dadosAtuais"
   ]
  },
  {
   "cell_type": "code",
   "execution_count": 6,
   "metadata": {},
   "outputs": [
    {
     "name": "stdout",
     "output_type": "stream",
     "text": [
      "{'Pressao': 1021, 'Sensacao': 24, 'Temperatura': 24, 'Data': '2021-07-25 16:52:21'}\n"
     ]
    }
   ],
   "source": [
    "#TESTE buscaDadosTempoAtual():\n",
    "print(buscaDadosTempoAtual(iTOKEN, '6879'))"
   ]
  },
  {
   "cell_type": "code",
   "execution_count": 7,
   "metadata": {},
   "outputs": [],
   "source": [
    "#input: token\n",
    "#output: dictionary contendo dados da previsão\n",
    "\n",
    "def buscaDadosTempoPais(iTOKEN):\n",
    "    iURL = \"http://apiadvisor.climatempo.com.br/api/v1/anl/synoptic/locale/BR?token=\" + iTOKEN\n",
    "    iRESPONSE = requests.request(\"GET\", iURL)\n",
    "    iRETORNO_REQ = json.loads(iRESPONSE.text)\n",
    "    #print(iRETORNO_REQ)\n",
    "\n",
    "    for iCHAVE in iRETORNO_REQ:\n",
    "        print(\"Country: \" + iCHAVE.get('country'))\n",
    "        print(\"date: \" + iCHAVE.get('date'))\n",
    "        print(\"Text: \" + iCHAVE.get('text') + \"\\n\")\n",
    "    #dadosPais = {\n",
    "     #   'Pais': iRETORNO_REQ['data']['country'],\n",
    "      #  'Data': iRETORNO_REQ['data']['date'],\n",
    "       # 'Texto': iRETORNO_REQ['data']['text'],\n",
    "    #}\n",
    "    return iCHAVE\n",
    "    #return dadosPais"
   ]
  },
  {
   "cell_type": "code",
   "execution_count": 8,
   "metadata": {},
   "outputs": [
    {
     "ename": "UnboundLocalError",
     "evalue": "local variable 'iCHAVE' referenced before assignment",
     "output_type": "error",
     "traceback": [
      "\u001b[0;31m---------------------------------------------------------------------------\u001b[0m",
      "\u001b[0;31mUnboundLocalError\u001b[0m                         Traceback (most recent call last)",
      "\u001b[0;32m<ipython-input-8-5c86557c4e5f>\u001b[0m in \u001b[0;36m<module>\u001b[0;34m\u001b[0m\n\u001b[1;32m      1\u001b[0m \u001b[0;31m#Teste buscaDadosTempoPais()\u001b[0m\u001b[0;34m\u001b[0m\u001b[0;34m\u001b[0m\u001b[0;34m\u001b[0m\u001b[0m\n\u001b[1;32m      2\u001b[0m \u001b[0miTOKEN\u001b[0m \u001b[0;34m=\u001b[0m \u001b[0;34m'8c2f52e9921a6556790d9ff7a3f0275c'\u001b[0m\u001b[0;34m\u001b[0m\u001b[0;34m\u001b[0m\u001b[0m\n\u001b[0;32m----> 3\u001b[0;31m \u001b[0mprint\u001b[0m\u001b[0;34m(\u001b[0m\u001b[0mbuscaDadosTempoPais\u001b[0m\u001b[0;34m(\u001b[0m\u001b[0miTOKEN\u001b[0m\u001b[0;34m)\u001b[0m\u001b[0;34m)\u001b[0m\u001b[0;34m\u001b[0m\u001b[0;34m\u001b[0m\u001b[0m\n\u001b[0m",
      "\u001b[0;32m<ipython-input-7-a91b8e8f4a30>\u001b[0m in \u001b[0;36mbuscaDadosTempoPais\u001b[0;34m(iTOKEN)\u001b[0m\n\u001b[1;32m     17\u001b[0m        \u001b[0;31m# 'Texto': iRETORNO_REQ['data']['text'],\u001b[0m\u001b[0;34m\u001b[0m\u001b[0;34m\u001b[0m\u001b[0;34m\u001b[0m\u001b[0m\n\u001b[1;32m     18\u001b[0m     \u001b[0;31m#}\u001b[0m\u001b[0;34m\u001b[0m\u001b[0;34m\u001b[0m\u001b[0;34m\u001b[0m\u001b[0m\n\u001b[0;32m---> 19\u001b[0;31m     \u001b[0;32mreturn\u001b[0m \u001b[0miCHAVE\u001b[0m\u001b[0;34m\u001b[0m\u001b[0;34m\u001b[0m\u001b[0m\n\u001b[0m\u001b[1;32m     20\u001b[0m     \u001b[0;31m#return dadosPais\u001b[0m\u001b[0;34m\u001b[0m\u001b[0;34m\u001b[0m\u001b[0;34m\u001b[0m\u001b[0m\n",
      "\u001b[0;31mUnboundLocalError\u001b[0m: local variable 'iCHAVE' referenced before assignment"
     ]
    }
   ],
   "source": [
    "#Teste buscaDadosTempoPais()\n",
    "iTOKEN = '8c2f52e9921a6556790d9ff7a3f0275c'\n",
    "print(buscaDadosTempoPais(iTOKEN))"
   ]
  },
  {
   "cell_type": "code",
   "execution_count": 9,
   "metadata": {},
   "outputs": [
    {
     "data": {
      "text/plain": [
       "6879"
      ]
     },
     "execution_count": 9,
     "metadata": {},
     "output_type": "execute_result"
    }
   ],
   "source": [
    "#Inputs: iCIDADE, iTOKEN \n",
    "#Output: Dicionário contendo dados de previsão para os proximos 15 dias\n",
    "def buscaPrevisao15Dias(iCIDADE, iTOKEN ):\n",
    "    iURL = \"http://apiadvisor.climatempo.com.br/api/v1/forecast/locale/\" + iCIDADE + \"/days/15?token=\" + iTOKEN\n",
    "    iRESPONSE = requests.request(\"GET\", iURL)\n",
    "    iRETORNO_REQ = json.loads(iRESPONSE.text)\n",
    "    #print(iRETORNO_REQ)\n",
    "    print(\"\\ncidade: \" + str(iRETORNO_REQ.get('name')) + \"-\" + str(iRETORNO_REQ.get('state')))\n",
    "    \n",
    "    for iCHAVE in iRETORNO_REQ['data']:\n",
    "        iDATA = iCHAVE.get('date_br')\n",
    "        iCHUVA = iCHAVE['rain']['probability']\n",
    "        iTEXTMORNING = iCHAVE['text_icon']['text']['phrase']['reduced']\n",
    "        iTEMPERATURAMIN = iCHAVE['temperature']['min']\n",
    "        iTEMPERATURAMAX = iCHAVE['temperature']['min']\n",
    "        print(\"data: \" + str(iDATA) + \" chuva: \" + str(iCHUVA) + \"%\" + \" temp: min(\" + str(iTEMPERATURAMIN) + \") max(\" + str(iTEMPERATURAMAX) + \") resumo: \" + str(iTEXTMORNING) + \"\\n\")\n",
    "\n",
    "6879\n",
    "    "
   ]
  },
  {
   "cell_type": "code",
   "execution_count": 10,
   "metadata": {},
   "outputs": [
    {
     "name": "stdout",
     "output_type": "stream",
     "text": [
      "\n",
      "cidade: Belo Horizonte-MG\n",
      "data: 25/07/2021 chuva: 0% temp: min(11) max(11) resumo: Sol o dia todo sem nuvens no céu. Noite de tempo aberto ainda sem nuvens.\n",
      "\n",
      "data: 26/07/2021 chuva: 0% temp: min(12) max(12) resumo: Sol o dia todo sem nuvens no céu. Noite de tempo aberto ainda sem nuvens.\n",
      "\n",
      "data: 27/07/2021 chuva: 0% temp: min(13) max(13) resumo: Sol com algumas nuvens. Não chove.\n",
      "\n",
      "data: 28/07/2021 chuva: 0% temp: min(14) max(14) resumo: Sol com algumas nuvens. Não chove.\n",
      "\n",
      "data: 29/07/2021 chuva: 0% temp: min(14) max(14) resumo: Sol com muitas nuvens durante o dia e períodos de céu nublado. Noite com muitas nuvens.\n",
      "\n",
      "data: 30/07/2021 chuva: 0% temp: min(12) max(12) resumo: Sol com algumas nuvens. Não chove.\n",
      "\n",
      "data: 31/07/2021 chuva: 0% temp: min(11) max(11) resumo: Sol com algumas nuvens. Não chove.\n",
      "\n"
     ]
    }
   ],
   "source": [
    "#Teste buscaPrevisao15Dias(iCIDADE, iTOKEN )\n",
    "buscaPrevisao15Dias(iCIDADE, iTOKEN)"
   ]
  },
  {
   "cell_type": "code",
   "execution_count": 11,
   "metadata": {},
   "outputs": [],
   "source": [
    " def buscaPrevisao3Dias(iTOKEN):\n",
    "    iURL = \"http://apiadvisor.climatempo.com.br/api/v1/forecast/region/centro-oeste?token=\" + iTOKEN\n",
    "    iRESPONSE = requests.request(\"GET\", iURL)\n",
    "    iRETORNO_REQ = json.loads(iRESPONSE.text)\n",
    "    cont = 0\n",
    "    dadosPrevistos ={}\n",
    "    \n",
    "    for iCHAVE in iRETORNO_REQ['data']:\n",
    "        iDATA = iCHAVE.get('date_br')\n",
    "        iTEXT = (iCHAVE.get('text'))\n",
    "        if iTEXT == None:\n",
    "            iTEXT = \"sem dados para esta data\"\n",
    "        #print(\"data: \" + str(iDATA) + \" texto: \" + str(iTEXT) + \"\\n\")\n",
    "        dadosPrevistos[cont] = 'Data: ' + str(iDATA) + ' ' + 'Texto: ' + str(iTEXT)\n",
    "        cont=cont+1\n",
    "        \n",
    "    return dadosPrevistos"
   ]
  },
  {
   "cell_type": "code",
   "execution_count": 12,
   "metadata": {},
   "outputs": [
    {
     "name": "stdout",
     "output_type": "stream",
     "text": [
      "{0: 'Data: 25/07/2021 Texto: O domingo será marcado por tempo firme e bastante seco no Centro-Oeste do BR. O sol segue predominando em todas as áreas e não há expectativa de chuva. A umidade do ar continua baixa, nas horas mais quentes do dia, principalmente no MT e MS.\\n', 1: 'Data: 26/07/2021 Texto: A semana começa com tempo firme em todos os estados. O sol aparece entre poucas nuvens e não há chance de chuva. A umidade do ar segue abaixo do ideal e o risco para queimadas é alto.', 2: 'Data: 27/07/2021 Texto: Na terça-feira volta a chover no sul de Mato Grosso do Sul, com trovoadas isoladas. Enquanto as demais áreas permanecem com tempo seco.\\n'}\n"
     ]
    }
   ],
   "source": [
    "#TESTE buscaPrevisao3Dias(iTOKEN)\n",
    "print(buscaPrevisao3Dias(iTOKEN))"
   ]
  },
  {
   "cell_type": "code",
   "execution_count": 13,
   "metadata": {},
   "outputs": [],
   "source": [
    "#inputs: cod cidade e token\n",
    "#outputs: dicionario contendo previsao para as proximas 72 horas na cidade em questao\n",
    "def buscaPrevisao72HorasRegiao(iCIDADE, iTOKEN):\n",
    "    iURL = \"http://apiadvisor.climatempo.com.br/api/v1/forecast/locale/\" + iCIDADE + \"/hours/72?token=\" + iTOKEN\n",
    "    iRESPONSE = requests.request(\"GET\", iURL)\n",
    "    iRETORNO_REQ = json.loads(iRESPONSE.text)\n",
    "    #print(iRETORNO_REQ)\n",
    "    \n",
    "    cont = 0\n",
    "    dadosPrevistos ={}\n",
    "\n",
    "    for iCHAVE in iRETORNO_REQ['data']:\n",
    "        iDATA = iCHAVE.get('date_br')\n",
    "        iTEMPERATURA = iCHAVE['temperature']['temperature']\n",
    "        #rint(\"data:\" + str(iDATA) + \" \" + str(iTEMPERATURA) + \"º\" + \"\\n\")\n",
    "        dadosPrevistos[cont] = 'Data: ' + str(iDATA) + ' ' + 'Temperatura ºC: ' + str(iTEMPERATURA)\n",
    "        cont = cont+1\n",
    "    return dadosPrevistos"
   ]
  },
  {
   "cell_type": "code",
   "execution_count": 14,
   "metadata": {},
   "outputs": [
    {
     "data": {
      "text/plain": [
       "{0: 'Data: 25/07/2021 00:00:00 Temperatura ºC: 16',\n",
       " 1: 'Data: 25/07/2021 01:00:00 Temperatura ºC: 16',\n",
       " 2: 'Data: 25/07/2021 02:00:00 Temperatura ºC: 15',\n",
       " 3: 'Data: 25/07/2021 03:00:00 Temperatura ºC: 14',\n",
       " 4: 'Data: 25/07/2021 04:00:00 Temperatura ºC: 14',\n",
       " 5: 'Data: 25/07/2021 05:00:00 Temperatura ºC: 13',\n",
       " 6: 'Data: 25/07/2021 06:00:00 Temperatura ºC: 13',\n",
       " 7: 'Data: 25/07/2021 07:00:00 Temperatura ºC: 12',\n",
       " 8: 'Data: 25/07/2021 08:00:00 Temperatura ºC: 12',\n",
       " 9: 'Data: 25/07/2021 09:00:00 Temperatura ºC: 11',\n",
       " 10: 'Data: 25/07/2021 10:00:00 Temperatura ºC: 11',\n",
       " 11: 'Data: 25/07/2021 11:00:00 Temperatura ºC: 15',\n",
       " 12: 'Data: 25/07/2021 12:00:00 Temperatura ºC: 18',\n",
       " 13: 'Data: 25/07/2021 13:00:00 Temperatura ºC: 20',\n",
       " 14: 'Data: 25/07/2021 14:00:00 Temperatura ºC: 22',\n",
       " 15: 'Data: 25/07/2021 15:00:00 Temperatura ºC: 24',\n",
       " 16: 'Data: 25/07/2021 16:00:00 Temperatura ºC: 24',\n",
       " 17: 'Data: 25/07/2021 17:00:00 Temperatura ºC: 25',\n",
       " 18: 'Data: 25/07/2021 18:00:00 Temperatura ºC: 25',\n",
       " 19: 'Data: 25/07/2021 19:00:00 Temperatura ºC: 24',\n",
       " 20: 'Data: 25/07/2021 20:00:00 Temperatura ºC: 22',\n",
       " 21: 'Data: 25/07/2021 21:00:00 Temperatura ºC: 20',\n",
       " 22: 'Data: 25/07/2021 22:00:00 Temperatura ºC: 19',\n",
       " 23: 'Data: 25/07/2021 23:00:00 Temperatura ºC: 17',\n",
       " 24: 'Data: 26/07/2021 00:00:00 Temperatura ºC: 18',\n",
       " 25: 'Data: 26/07/2021 01:00:00 Temperatura ºC: 17',\n",
       " 26: 'Data: 26/07/2021 02:00:00 Temperatura ºC: 16',\n",
       " 27: 'Data: 26/07/2021 03:00:00 Temperatura ºC: 15',\n",
       " 28: 'Data: 26/07/2021 04:00:00 Temperatura ºC: 14',\n",
       " 29: 'Data: 26/07/2021 05:00:00 Temperatura ºC: 15',\n",
       " 30: 'Data: 26/07/2021 06:00:00 Temperatura ºC: 14',\n",
       " 31: 'Data: 26/07/2021 07:00:00 Temperatura ºC: 13',\n",
       " 32: 'Data: 26/07/2021 08:00:00 Temperatura ºC: 12',\n",
       " 33: 'Data: 26/07/2021 09:00:00 Temperatura ºC: 12',\n",
       " 34: 'Data: 26/07/2021 10:00:00 Temperatura ºC: 12',\n",
       " 35: 'Data: 26/07/2021 11:00:00 Temperatura ºC: 16',\n",
       " 36: 'Data: 26/07/2021 12:00:00 Temperatura ºC: 19',\n",
       " 37: 'Data: 26/07/2021 13:00:00 Temperatura ºC: 21',\n",
       " 38: 'Data: 26/07/2021 14:00:00 Temperatura ºC: 23',\n",
       " 39: 'Data: 26/07/2021 15:00:00 Temperatura ºC: 25',\n",
       " 40: 'Data: 26/07/2021 16:00:00 Temperatura ºC: 25',\n",
       " 41: 'Data: 26/07/2021 17:00:00 Temperatura ºC: 26',\n",
       " 42: 'Data: 26/07/2021 18:00:00 Temperatura ºC: 26',\n",
       " 43: 'Data: 26/07/2021 19:00:00 Temperatura ºC: 24',\n",
       " 44: 'Data: 26/07/2021 20:00:00 Temperatura ºC: 23',\n",
       " 45: 'Data: 26/07/2021 21:00:00 Temperatura ºC: 21',\n",
       " 46: 'Data: 26/07/2021 22:00:00 Temperatura ºC: 19',\n",
       " 47: 'Data: 26/07/2021 23:00:00 Temperatura ºC: 18',\n",
       " 48: 'Data: 27/07/2021 00:00:00 Temperatura ºC: 19',\n",
       " 49: 'Data: 27/07/2021 01:00:00 Temperatura ºC: 18',\n",
       " 50: 'Data: 27/07/2021 02:00:00 Temperatura ºC: 17',\n",
       " 51: 'Data: 27/07/2021 03:00:00 Temperatura ºC: 16',\n",
       " 52: 'Data: 27/07/2021 04:00:00 Temperatura ºC: 16',\n",
       " 53: 'Data: 27/07/2021 05:00:00 Temperatura ºC: 15',\n",
       " 54: 'Data: 27/07/2021 06:00:00 Temperatura ºC: 15',\n",
       " 55: 'Data: 27/07/2021 07:00:00 Temperatura ºC: 14',\n",
       " 56: 'Data: 27/07/2021 08:00:00 Temperatura ºC: 13',\n",
       " 57: 'Data: 27/07/2021 09:00:00 Temperatura ºC: 13',\n",
       " 58: 'Data: 27/07/2021 10:00:00 Temperatura ºC: 13',\n",
       " 59: 'Data: 27/07/2021 11:00:00 Temperatura ºC: 16',\n",
       " 60: 'Data: 27/07/2021 12:00:00 Temperatura ºC: 20',\n",
       " 61: 'Data: 27/07/2021 13:00:00 Temperatura ºC: 22',\n",
       " 62: 'Data: 27/07/2021 14:00:00 Temperatura ºC: 23',\n",
       " 63: 'Data: 27/07/2021 15:00:00 Temperatura ºC: 25',\n",
       " 64: 'Data: 27/07/2021 16:00:00 Temperatura ºC: 25',\n",
       " 65: 'Data: 27/07/2021 17:00:00 Temperatura ºC: 26',\n",
       " 66: 'Data: 27/07/2021 18:00:00 Temperatura ºC: 27',\n",
       " 67: 'Data: 27/07/2021 19:00:00 Temperatura ºC: 26',\n",
       " 68: 'Data: 27/07/2021 20:00:00 Temperatura ºC: 24',\n",
       " 69: 'Data: 27/07/2021 21:00:00 Temperatura ºC: 21',\n",
       " 70: 'Data: 27/07/2021 22:00:00 Temperatura ºC: 20',\n",
       " 71: 'Data: 27/07/2021 23:00:00 Temperatura ºC: 19'}"
      ]
     },
     "execution_count": 14,
     "metadata": {},
     "output_type": "execute_result"
    }
   ],
   "source": [
    "#TESTE buscaPrevisao72HorasRegiao(iCIDADE, iTOKEN)\n",
    "buscaPrevisao72HorasRegiao('6879', \"8c2f52e9921a6556790d9ff7a3f0275c\")"
   ]
  },
  {
   "cell_type": "code",
   "execution_count": 15,
   "metadata": {},
   "outputs": [],
   "source": [
    "#inputs: código da cidade e token\n",
    "#output: dicionario contendo dados da cidade\n",
    "def buscarCidadePeloID(iCIDADE, iTOKEN):\n",
    "    iURL = \"http://apiadvisor.climatempo.com.br/api/v1/locale/city/\" + iCIDADE + \"?token=\" + iTOKEN \n",
    "    iRESPONSE = requests.request(\"GET\", iURL)\n",
    "    iRETORNO_REQ = json.loads(iRESPONSE.text)\n",
    "    #print(iRETORNO_REQ)\n",
    "\n",
    "    #print(\"id: \" + str(iRETORNO_REQ.get('id')))\n",
    "    #print(\"name: \" + str(iRETORNO_REQ.get('name')))\n",
    "    #print(\"state: \" + str(iRETORNO_REQ.get('state')))\n",
    "    #print(\"country: \" + str(iRETORNO_REQ.get('country')) + \"\\n\")\n",
    "    \n",
    "    dadosCidade ={\n",
    "        'id': str(iRETORNO_REQ.get('id')),\n",
    "        'Nome': str(iRETORNO_REQ.get('name')),\n",
    "        'Estado': str(iRETORNO_REQ.get('state')),\n",
    "        'País': str(iRETORNO_REQ.get('country'))\n",
    "    }\n",
    "    return dadosCidade\n",
    "    "
   ]
  },
  {
   "cell_type": "code",
   "execution_count": 16,
   "metadata": {},
   "outputs": [
    {
     "name": "stdout",
     "output_type": "stream",
     "text": [
      "{'id': '6879', 'Nome': 'Belo Horizonte', 'Estado': 'MG', 'País': 'BR  '}\n"
     ]
    }
   ],
   "source": [
    "print(buscarCidadePeloID('6879', \"8c2f52e9921a6556790d9ff7a3f0275c\"))"
   ]
  },
  {
   "cell_type": "code",
   "execution_count": null,
   "metadata": {},
   "outputs": [],
   "source": []
  }
 ],
 "metadata": {
  "kernelspec": {
   "display_name": "Python 3",
   "language": "python",
   "name": "python3"
  },
  "language_info": {
   "codemirror_mode": {
    "name": "ipython",
    "version": 3
   },
   "file_extension": ".py",
   "mimetype": "text/x-python",
   "name": "python",
   "nbconvert_exporter": "python",
   "pygments_lexer": "ipython3",
   "version": "3.7.6"
  }
 },
 "nbformat": 4,
 "nbformat_minor": 4
}
