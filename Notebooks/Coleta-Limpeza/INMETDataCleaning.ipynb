{
 "cells": [
  {
   "cell_type": "code",
   "execution_count": 1,
   "metadata": {},
   "outputs": [],
   "source": [
    "#TRATAMENTO DE DADOS DE METEOROLOGIA DO INMET(2020)\n",
    "import pandas as pd\n",
    "import numpy as np\n",
    "\n",
    "#Os dados tiveram de ser manipulados no NOTEPAD++, ponto e vírgul \";\" que separavam colunas foram substituidas por virgulas\n",
    "#Casas decimais foram utilizavam o método brasileiro \",\", agora utiliza ponto \".\".\n",
    "dados_inmet_bh_2020 = pd.read_csv(\"/home/marcelo/Documentos/PosGraduacaoDataScience/Disciplinas/Monografia/DadosMonografia/DadosBHCercadinho2020.csv\")\n",
    "dados_inmet_bh_2021 = pd.read_csv(\"/home/marcelo/Documentos/PosGraduacaoDataScience/Disciplinas/Monografia/DadosMonografia/DadosBHCercadinho2021.csv\")"
   ]
  },
  {
   "cell_type": "code",
   "execution_count": 2,
   "metadata": {},
   "outputs": [
    {
     "name": "stdout",
     "output_type": "stream",
     "text": [
      "<class 'pandas.core.frame.DataFrame'>\n",
      "RangeIndex: 8781 entries, 0 to 8780\n",
      "Data columns (total 19 columns):\n",
      " #   Column                                                 Non-Null Count  Dtype  \n",
      "---  ------                                                 --------------  -----  \n",
      " 0   Data                                                   8781 non-null   object \n",
      " 1   Hora UTC                                               8781 non-null   object \n",
      " 2   PRECIPITACAO TOTAL. HORARIO (mm)                       8764 non-null   float64\n",
      " 3   PRESSAO ATMOSFERICA AO NIVEL DA ESTACAO. HORARIA (mB)  8764 non-null   float64\n",
      " 4   PRESSAO ATMOSFERICA MAX.NA HORA ANT. (AUT) (mB)        8764 non-null   float64\n",
      " 5   PRESSAO ATMOSFERICA MIN. NA HORA ANT. (AUT) (mB)       8764 non-null   float64\n",
      " 6   RADIACAO GLOBAL (Kj/m3)                                4881 non-null   float64\n",
      " 7   TEMPERATURA DO AR - BULBO SECO. HORARIA (Celsius)      8764 non-null   float64\n",
      " 8   TEMPERATURA DO PONTO DE ORVALHO (Celsius)              8764 non-null   float64\n",
      " 9   TEMPERATURA MAXIMA NA HORA ANT. (AUT) (Celsius)        8764 non-null   float64\n",
      " 10  TEMPERATURA MAXIMA NA HORA ANT. (AUT) (Celsius).1      8764 non-null   float64\n",
      " 11  TEMPERATURA ORVALHO MAX. NA HORA ANT. (AUT) (Celsius)  8764 non-null   float64\n",
      " 12  TEMPERATURA ORVALHO MIN. NA HORA ANT. (AUT) (Celsius)  8764 non-null   float64\n",
      " 13  UMIDADE REL. MAX. NA HORA ANT. (AUT) (%)               8764 non-null   float64\n",
      " 14  UMIDADE REL. MIN. NA HORA ANT. (AUT) (%)               8764 non-null   float64\n",
      " 15  UMIDADE RELATIVA DO AR. HORARIA (%)                    8764 non-null   float64\n",
      " 16  VENTO. DIRECAO HORARIA (gr) ((gr))                     8763 non-null   float64\n",
      " 17  VENTO. RAJADA MAXIMA (m/s)                             8763 non-null   float64\n",
      " 18  VENTO. VELOCIDADE HORARIA (m/s);                       8763 non-null   float64\n",
      "dtypes: float64(17), object(2)\n",
      "memory usage: 1.3+ MB\n"
     ]
    }
   ],
   "source": [
    "dados_inmet_bh_2020.info()"
   ]
  },
  {
   "cell_type": "code",
   "execution_count": 3,
   "metadata": {},
   "outputs": [
    {
     "name": "stdout",
     "output_type": "stream",
     "text": [
      "<class 'pandas.core.frame.DataFrame'>\n",
      "RangeIndex: 326 entries, 0 to 325\n",
      "Data columns (total 21 columns):\n",
      " #   Column                                                Non-Null Count  Dtype  \n",
      "---  ------                                                --------------  -----  \n",
      " 0   Data Medicao                                          326 non-null    object \n",
      " 1   Hora Medicao                                          326 non-null    int64  \n",
      " 2   PRECIPITACAO TOTAL. HORARIO(mm)                       326 non-null    int64  \n",
      " 3   PRESSAO ATMOSFERICA AO NIVEL DA ESTACAO. HORARIA(mB)  326 non-null    float64\n",
      " 4   PRESSAO ATMOSFERICA REDUZIDA NIVEL DO MAR. AUT(mB)    313 non-null    float64\n",
      " 5   PRESSAO ATMOSFERICA MAX.NA HORA ANT. (AUT)(mB)        326 non-null    float64\n",
      " 6   PRESSAO ATMOSFERICA MIN. NA HORA ANT. (AUT)(mB)       326 non-null    float64\n",
      " 7   TEMPERATURA DA CPU DA ESTACAO(°C)                     326 non-null    int64  \n",
      " 8   TEMPERATURA DO AR - BULBO SECO. HORARIA(°C)           326 non-null    float64\n",
      " 9   TEMPERATURA DO PONTO DE ORVALHO(°C)                   326 non-null    float64\n",
      " 10  TEMPERATURA MAXIMA NA HORA ANT. (AUT)(°C)             326 non-null    float64\n",
      " 11  TEMPERATURA MINIMA NA HORA ANT. (AUT)(°C)             326 non-null    float64\n",
      " 12  TEMPERATURA ORVALHO MAX. NA HORA ANT. (AUT)(°C)       326 non-null    float64\n",
      " 13  TEMPERATURA ORVALHO MIN. NA HORA ANT. (AUT)(°C)       326 non-null    float64\n",
      " 14  TENSAO DA BATERIA DA ESTACAO(V)                       326 non-null    float64\n",
      " 15  UMIDADE REL. MAX. NA HORA ANT. (AUT)(%)               326 non-null    int64  \n",
      " 16  UMIDADE REL. MIN. NA HORA ANT. (AUT)(%)               326 non-null    int64  \n",
      " 17  UMIDADE RELATIVA DO AR. HORARIA(%)                    326 non-null    int64  \n",
      " 18  VENTO DIRECAO HORARIA (gr)(° (gr))                    326 non-null    int64  \n",
      " 19  VENTO. RAJADA MAXIMA(m/s)                             326 non-null    float64\n",
      " 20  VENTO. VELOCIDADE HORARIA(m/s);                       326 non-null    float64\n",
      "dtypes: float64(13), int64(7), object(1)\n",
      "memory usage: 53.6+ KB\n"
     ]
    }
   ],
   "source": [
    "dados_inmet_bh_2021=dados_inmet_bh_2021.drop(['RADIACAO GLOBAL(Kj/m²)'], axis=1)\n",
    "dados_inmet_bh_2021.info()\n"
   ]
  },
  {
   "cell_type": "code",
   "execution_count": 4,
   "metadata": {},
   "outputs": [
    {
     "data": {
      "text/plain": [
       "140.9415725208262"
      ]
     },
     "execution_count": 4,
     "metadata": {},
     "output_type": "execute_result"
    }
   ],
   "source": [
    "first_column = dados_inmet_bh_2020.iloc[:, 16]\n",
    "first_column.mean()"
   ]
  },
  {
   "cell_type": "code",
   "execution_count": 5,
   "metadata": {},
   "outputs": [
    {
     "data": {
      "text/plain": [
       "53.895705521472394"
      ]
     },
     "execution_count": 5,
     "metadata": {},
     "output_type": "execute_result"
    }
   ],
   "source": [
    "first_column = dados_inmet_bh_2021.iloc[:, 16]\n",
    "first_column.mean()"
   ]
  },
  {
   "cell_type": "code",
   "execution_count": 6,
   "metadata": {},
   "outputs": [],
   "source": [
    "for x in range(2, 18):\n",
    "  dados_inmet_bh_2020.iloc[:, x] = dados_inmet_bh_2020.iloc[:, x].replace(np.NaN, dados_inmet_bh_2020.iloc[:, x].mean())\n",
    "  #print(dados_inmet_bh_2020.iloc[:, 2].mean()\n",
    "  \n",
    "\n",
    "    \n",
    "  "
   ]
  },
  {
   "cell_type": "code",
   "execution_count": 7,
   "metadata": {},
   "outputs": [],
   "source": [
    "for x in range(2, 21):\n",
    "  dados_inmet_bh_2021.iloc[:, x] = dados_inmet_bh_2021.iloc[:, x].replace(np.NaN, dados_inmet_bh_2021.iloc[:, x].mean())\n",
    "  #print(dados_inmet_bh_2020.iloc[:, 2].mean()\n",
    "  "
   ]
  },
  {
   "cell_type": "code",
   "execution_count": 8,
   "metadata": {},
   "outputs": [
    {
     "name": "stdout",
     "output_type": "stream",
     "text": [
      "<class 'pandas.core.frame.DataFrame'>\n",
      "RangeIndex: 8781 entries, 0 to 8780\n",
      "Data columns (total 19 columns):\n",
      " #   Column                                                 Non-Null Count  Dtype  \n",
      "---  ------                                                 --------------  -----  \n",
      " 0   Data                                                   8781 non-null   object \n",
      " 1   Hora UTC                                               8781 non-null   object \n",
      " 2   PRECIPITACAO TOTAL. HORARIO (mm)                       8781 non-null   float64\n",
      " 3   PRESSAO ATMOSFERICA AO NIVEL DA ESTACAO. HORARIA (mB)  8781 non-null   float64\n",
      " 4   PRESSAO ATMOSFERICA MAX.NA HORA ANT. (AUT) (mB)        8781 non-null   float64\n",
      " 5   PRESSAO ATMOSFERICA MIN. NA HORA ANT. (AUT) (mB)       8781 non-null   float64\n",
      " 6   RADIACAO GLOBAL (Kj/m3)                                8781 non-null   float64\n",
      " 7   TEMPERATURA DO AR - BULBO SECO. HORARIA (Celsius)      8781 non-null   float64\n",
      " 8   TEMPERATURA DO PONTO DE ORVALHO (Celsius)              8781 non-null   float64\n",
      " 9   TEMPERATURA MAXIMA NA HORA ANT. (AUT) (Celsius)        8781 non-null   float64\n",
      " 10  TEMPERATURA MAXIMA NA HORA ANT. (AUT) (Celsius).1      8781 non-null   float64\n",
      " 11  TEMPERATURA ORVALHO MAX. NA HORA ANT. (AUT) (Celsius)  8781 non-null   float64\n",
      " 12  TEMPERATURA ORVALHO MIN. NA HORA ANT. (AUT) (Celsius)  8781 non-null   float64\n",
      " 13  UMIDADE REL. MAX. NA HORA ANT. (AUT) (%)               8781 non-null   float64\n",
      " 14  UMIDADE REL. MIN. NA HORA ANT. (AUT) (%)               8781 non-null   float64\n",
      " 15  UMIDADE RELATIVA DO AR. HORARIA (%)                    8781 non-null   float64\n",
      " 16  VENTO. DIRECAO HORARIA (gr) ((gr))                     8781 non-null   float64\n",
      " 17  VENTO. RAJADA MAXIMA (m/s)                             8781 non-null   float64\n",
      " 18  VENTO. VELOCIDADE HORARIA (m/s);                       8763 non-null   float64\n",
      "dtypes: float64(17), object(2)\n",
      "memory usage: 1.3+ MB\n"
     ]
    },
    {
     "data": {
      "text/plain": [
       "Data                                                      0\n",
       "Hora UTC                                                  0\n",
       "PRECIPITACAO TOTAL. HORARIO (mm)                          0\n",
       "PRESSAO ATMOSFERICA AO NIVEL DA ESTACAO. HORARIA (mB)     0\n",
       "PRESSAO ATMOSFERICA MAX.NA HORA ANT. (AUT) (mB)           0\n",
       "PRESSAO ATMOSFERICA MIN. NA HORA ANT. (AUT) (mB)          0\n",
       "RADIACAO GLOBAL (Kj/m3)                                   0\n",
       "TEMPERATURA DO AR - BULBO SECO. HORARIA (Celsius)         0\n",
       "TEMPERATURA DO PONTO DE ORVALHO (Celsius)                 0\n",
       "TEMPERATURA MAXIMA NA HORA ANT. (AUT) (Celsius)           0\n",
       "TEMPERATURA MAXIMA NA HORA ANT. (AUT) (Celsius).1         0\n",
       "TEMPERATURA ORVALHO MAX. NA HORA ANT. (AUT) (Celsius)     0\n",
       "TEMPERATURA ORVALHO MIN. NA HORA ANT. (AUT) (Celsius)     0\n",
       "UMIDADE REL. MAX. NA HORA ANT. (AUT) (%)                  0\n",
       "UMIDADE REL. MIN. NA HORA ANT. (AUT) (%)                  0\n",
       "UMIDADE RELATIVA DO AR. HORARIA (%)                       0\n",
       "VENTO. DIRECAO HORARIA (gr) ((gr))                        0\n",
       "VENTO. RAJADA MAXIMA (m/s)                                0\n",
       "VENTO. VELOCIDADE HORARIA (m/s);                         18\n",
       "dtype: int64"
      ]
     },
     "execution_count": 8,
     "metadata": {},
     "output_type": "execute_result"
    }
   ],
   "source": [
    "#Analisando volume de dados nulos \n",
    "dados_inmet_bh_2020.info()\n",
    "dados_inmet_bh_2020.isnull().sum()"
   ]
  },
  {
   "cell_type": "code",
   "execution_count": 9,
   "metadata": {},
   "outputs": [
    {
     "name": "stdout",
     "output_type": "stream",
     "text": [
      "<class 'pandas.core.frame.DataFrame'>\n",
      "RangeIndex: 326 entries, 0 to 325\n",
      "Data columns (total 21 columns):\n",
      " #   Column                                                Non-Null Count  Dtype  \n",
      "---  ------                                                --------------  -----  \n",
      " 0   Data Medicao                                          326 non-null    object \n",
      " 1   Hora Medicao                                          326 non-null    int64  \n",
      " 2   PRECIPITACAO TOTAL. HORARIO(mm)                       326 non-null    int64  \n",
      " 3   PRESSAO ATMOSFERICA AO NIVEL DA ESTACAO. HORARIA(mB)  326 non-null    float64\n",
      " 4   PRESSAO ATMOSFERICA REDUZIDA NIVEL DO MAR. AUT(mB)    326 non-null    float64\n",
      " 5   PRESSAO ATMOSFERICA MAX.NA HORA ANT. (AUT)(mB)        326 non-null    float64\n",
      " 6   PRESSAO ATMOSFERICA MIN. NA HORA ANT. (AUT)(mB)       326 non-null    float64\n",
      " 7   TEMPERATURA DA CPU DA ESTACAO(°C)                     326 non-null    int64  \n",
      " 8   TEMPERATURA DO AR - BULBO SECO. HORARIA(°C)           326 non-null    float64\n",
      " 9   TEMPERATURA DO PONTO DE ORVALHO(°C)                   326 non-null    float64\n",
      " 10  TEMPERATURA MAXIMA NA HORA ANT. (AUT)(°C)             326 non-null    float64\n",
      " 11  TEMPERATURA MINIMA NA HORA ANT. (AUT)(°C)             326 non-null    float64\n",
      " 12  TEMPERATURA ORVALHO MAX. NA HORA ANT. (AUT)(°C)       326 non-null    float64\n",
      " 13  TEMPERATURA ORVALHO MIN. NA HORA ANT. (AUT)(°C)       326 non-null    float64\n",
      " 14  TENSAO DA BATERIA DA ESTACAO(V)                       326 non-null    float64\n",
      " 15  UMIDADE REL. MAX. NA HORA ANT. (AUT)(%)               326 non-null    int64  \n",
      " 16  UMIDADE REL. MIN. NA HORA ANT. (AUT)(%)               326 non-null    int64  \n",
      " 17  UMIDADE RELATIVA DO AR. HORARIA(%)                    326 non-null    int64  \n",
      " 18  VENTO DIRECAO HORARIA (gr)(° (gr))                    326 non-null    int64  \n",
      " 19  VENTO. RAJADA MAXIMA(m/s)                             326 non-null    float64\n",
      " 20  VENTO. VELOCIDADE HORARIA(m/s);                       326 non-null    float64\n",
      "dtypes: float64(13), int64(7), object(1)\n",
      "memory usage: 53.6+ KB\n"
     ]
    },
    {
     "data": {
      "text/plain": [
       "Data Medicao                                            0\n",
       "Hora Medicao                                            0\n",
       "PRECIPITACAO TOTAL. HORARIO(mm)                         0\n",
       "PRESSAO ATMOSFERICA AO NIVEL DA ESTACAO. HORARIA(mB)    0\n",
       "PRESSAO ATMOSFERICA REDUZIDA NIVEL DO MAR. AUT(mB)      0\n",
       "PRESSAO ATMOSFERICA MAX.NA HORA ANT. (AUT)(mB)          0\n",
       "PRESSAO ATMOSFERICA MIN. NA HORA ANT. (AUT)(mB)         0\n",
       "TEMPERATURA DA CPU DA ESTACAO(°C)                       0\n",
       "TEMPERATURA DO AR - BULBO SECO. HORARIA(°C)             0\n",
       "TEMPERATURA DO PONTO DE ORVALHO(°C)                     0\n",
       "TEMPERATURA MAXIMA NA HORA ANT. (AUT)(°C)               0\n",
       "TEMPERATURA MINIMA NA HORA ANT. (AUT)(°C)               0\n",
       "TEMPERATURA ORVALHO MAX. NA HORA ANT. (AUT)(°C)         0\n",
       "TEMPERATURA ORVALHO MIN. NA HORA ANT. (AUT)(°C)         0\n",
       "TENSAO DA BATERIA DA ESTACAO(V)                         0\n",
       "UMIDADE REL. MAX. NA HORA ANT. (AUT)(%)                 0\n",
       "UMIDADE REL. MIN. NA HORA ANT. (AUT)(%)                 0\n",
       "UMIDADE RELATIVA DO AR. HORARIA(%)                      0\n",
       "VENTO DIRECAO HORARIA (gr)(° (gr))                      0\n",
       "VENTO. RAJADA MAXIMA(m/s)                               0\n",
       "VENTO. VELOCIDADE HORARIA(m/s);                         0\n",
       "dtype: int64"
      ]
     },
     "execution_count": 9,
     "metadata": {},
     "output_type": "execute_result"
    }
   ],
   "source": [
    "#Analisando volume de dados nulos \n",
    "dados_inmet_bh_2021.info()\n",
    "dados_inmet_bh_2021.isnull().sum()"
   ]
  },
  {
   "cell_type": "code",
   "execution_count": 10,
   "metadata": {},
   "outputs": [
    {
     "name": "stdout",
     "output_type": "stream",
     "text": [
      "0       879.3\n",
      "1       880.0\n",
      "2       879.9\n",
      "3       879.7\n",
      "4       879.4\n",
      "        ...  \n",
      "8776    882.1\n",
      "8777    881.1\n",
      "8778    880.5\n",
      "8779    879.9\n",
      "8780    879.9\n",
      "Name: PRESSAO ATMOSFERICA AO NIVEL DA ESTACAO. HORARIA (mB), Length: 8781, dtype: float64\n",
      "882.9479803742591\n"
     ]
    }
   ],
   "source": [
    "print(dados_inmet_bh_2020.iloc[:, 3].replace(np.NaN, dados_inmet_bh_2020.iloc[:, 3].mean()))\n",
    "print(dados_inmet_bh_2020.iloc[:, 3].mean())"
   ]
  },
  {
   "cell_type": "code",
   "execution_count": 11,
   "metadata": {},
   "outputs": [
    {
     "name": "stdout",
     "output_type": "stream",
     "text": [
      "0       0.0\n",
      "1       0.0\n",
      "2       0.0\n",
      "3       0.0\n",
      "4       0.0\n",
      "       ... \n",
      "8776    0.0\n",
      "8777    0.0\n",
      "8778    0.0\n",
      "8779    0.0\n",
      "8780    0.0\n",
      "Name: PRECIPITACAO TOTAL. HORARIO (mm), Length: 8781, dtype: float64\n"
     ]
    }
   ],
   "source": [
    "print(dados_inmet_bh_2020.iloc[:, 2])"
   ]
  },
  {
   "cell_type": "code",
   "execution_count": 12,
   "metadata": {},
   "outputs": [
    {
     "name": "stdout",
     "output_type": "stream",
     "text": [
      "<class 'pandas.core.frame.DataFrame'>\n",
      "RangeIndex: 8781 entries, 0 to 8780\n",
      "Data columns (total 19 columns):\n",
      " #   Column                                                 Non-Null Count  Dtype  \n",
      "---  ------                                                 --------------  -----  \n",
      " 0   Data                                                   8781 non-null   object \n",
      " 1   Hora UTC                                               8781 non-null   object \n",
      " 2   PRECIPITACAO TOTAL. HORARIO (mm)                       8781 non-null   float64\n",
      " 3   PRESSAO ATMOSFERICA AO NIVEL DA ESTACAO. HORARIA (mB)  8781 non-null   float64\n",
      " 4   PRESSAO ATMOSFERICA MAX.NA HORA ANT. (AUT) (mB)        8781 non-null   float64\n",
      " 5   PRESSAO ATMOSFERICA MIN. NA HORA ANT. (AUT) (mB)       8781 non-null   float64\n",
      " 6   RADIACAO GLOBAL (Kj/m3)                                8781 non-null   float64\n",
      " 7   TEMPERATURA DO AR - BULBO SECO. HORARIA (Celsius)      8781 non-null   float64\n",
      " 8   TEMPERATURA DO PONTO DE ORVALHO (Celsius)              8781 non-null   float64\n",
      " 9   TEMPERATURA MAXIMA NA HORA ANT. (AUT) (Celsius)        8781 non-null   float64\n",
      " 10  TEMPERATURA MAXIMA NA HORA ANT. (AUT) (Celsius).1      8781 non-null   float64\n",
      " 11  TEMPERATURA ORVALHO MAX. NA HORA ANT. (AUT) (Celsius)  8781 non-null   float64\n",
      " 12  TEMPERATURA ORVALHO MIN. NA HORA ANT. (AUT) (Celsius)  8781 non-null   float64\n",
      " 13  UMIDADE REL. MAX. NA HORA ANT. (AUT) (%)               8781 non-null   float64\n",
      " 14  UMIDADE REL. MIN. NA HORA ANT. (AUT) (%)               8781 non-null   float64\n",
      " 15  UMIDADE RELATIVA DO AR. HORARIA (%)                    8781 non-null   float64\n",
      " 16  VENTO. DIRECAO HORARIA (gr) ((gr))                     8781 non-null   float64\n",
      " 17  VENTO. RAJADA MAXIMA (m/s)                             8781 non-null   float64\n",
      " 18  VENTO. VELOCIDADE HORARIA (m/s);                       8763 non-null   float64\n",
      "dtypes: float64(17), object(2)\n",
      "memory usage: 1.3+ MB\n"
     ]
    }
   ],
   "source": [
    "#Salvando os Dados em CSV\n",
    "dados_inmet_bh_2020.info()\n",
    "dados_inmet_bh_2020.to_csv (r'/home/marcelo/Documentos/PosGraduacaoDataScience/Disciplinas/Monografia/DadosMonografia/dados_inmet_filtrados_2020.csv', index = False, header=True)"
   ]
  },
  {
   "cell_type": "code",
   "execution_count": 13,
   "metadata": {},
   "outputs": [
    {
     "name": "stdout",
     "output_type": "stream",
     "text": [
      "<class 'pandas.core.frame.DataFrame'>\n",
      "RangeIndex: 326 entries, 0 to 325\n",
      "Data columns (total 21 columns):\n",
      " #   Column                                                Non-Null Count  Dtype  \n",
      "---  ------                                                --------------  -----  \n",
      " 0   Data Medicao                                          326 non-null    object \n",
      " 1   Hora Medicao                                          326 non-null    int64  \n",
      " 2   PRECIPITACAO TOTAL. HORARIO(mm)                       326 non-null    int64  \n",
      " 3   PRESSAO ATMOSFERICA AO NIVEL DA ESTACAO. HORARIA(mB)  326 non-null    float64\n",
      " 4   PRESSAO ATMOSFERICA REDUZIDA NIVEL DO MAR. AUT(mB)    326 non-null    float64\n",
      " 5   PRESSAO ATMOSFERICA MAX.NA HORA ANT. (AUT)(mB)        326 non-null    float64\n",
      " 6   PRESSAO ATMOSFERICA MIN. NA HORA ANT. (AUT)(mB)       326 non-null    float64\n",
      " 7   TEMPERATURA DA CPU DA ESTACAO(°C)                     326 non-null    int64  \n",
      " 8   TEMPERATURA DO AR - BULBO SECO. HORARIA(°C)           326 non-null    float64\n",
      " 9   TEMPERATURA DO PONTO DE ORVALHO(°C)                   326 non-null    float64\n",
      " 10  TEMPERATURA MAXIMA NA HORA ANT. (AUT)(°C)             326 non-null    float64\n",
      " 11  TEMPERATURA MINIMA NA HORA ANT. (AUT)(°C)             326 non-null    float64\n",
      " 12  TEMPERATURA ORVALHO MAX. NA HORA ANT. (AUT)(°C)       326 non-null    float64\n",
      " 13  TEMPERATURA ORVALHO MIN. NA HORA ANT. (AUT)(°C)       326 non-null    float64\n",
      " 14  TENSAO DA BATERIA DA ESTACAO(V)                       326 non-null    float64\n",
      " 15  UMIDADE REL. MAX. NA HORA ANT. (AUT)(%)               326 non-null    int64  \n",
      " 16  UMIDADE REL. MIN. NA HORA ANT. (AUT)(%)               326 non-null    int64  \n",
      " 17  UMIDADE RELATIVA DO AR. HORARIA(%)                    326 non-null    int64  \n",
      " 18  VENTO DIRECAO HORARIA (gr)(° (gr))                    326 non-null    int64  \n",
      " 19  VENTO. RAJADA MAXIMA(m/s)                             326 non-null    float64\n",
      " 20  VENTO. VELOCIDADE HORARIA(m/s);                       326 non-null    float64\n",
      "dtypes: float64(13), int64(7), object(1)\n",
      "memory usage: 53.6+ KB\n"
     ]
    }
   ],
   "source": [
    "#Salvando os Dados em CSV\n",
    "dados_inmet_bh_2021.info()\n",
    "dados_inmet_bh_2021.to_csv (r'/home/marcelo/Documentos/PosGraduacaoDataScience/Disciplinas/Monografia/DadosMonografia/dados_inmet_filtrados_2021.csv', index = False, header=True)"
   ]
  }
 ],
 "metadata": {
  "kernelspec": {
   "display_name": "Python 3",
   "language": "python",
   "name": "python3"
  },
  "language_info": {
   "codemirror_mode": {
    "name": "ipython",
    "version": 3
   },
   "file_extension": ".py",
   "mimetype": "text/x-python",
   "name": "python",
   "nbconvert_exporter": "python",
   "pygments_lexer": "ipython3",
   "version": "3.7.6"
  }
 },
 "nbformat": 4,
 "nbformat_minor": 4
}
