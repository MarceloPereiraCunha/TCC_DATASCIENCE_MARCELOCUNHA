{
 "cells": [
  {
   "cell_type": "code",
   "execution_count": 18,
   "metadata": {},
   "outputs": [],
   "source": [
    "#Obtendo dados do ClimaTempo via API\n",
    "#Tutorial\n",
    "#https://www.youtube.com/watch?v=Rm1yjmj3yYc\n",
    "\n",
    "#API\n",
    "#https://advisor.climatempo.com.br/home/#!/tokens\n",
    "#Token para acessar API\n",
    "#5c71d869f5693cab0fb02c39da8d1cc4\n",
    "\n",
    "\n",
    "#documentacao em: http://apiadvisor.climatempo.com.br/doc/index.html\n",
    "import requests\n",
    "import json #pip install json\n",
    "\n",
    "iTOKEN = \"5c71d869f5693cab0fb02c39da8d1cc4\"\n",
    "#ID DE BH\n",
    "iCIDADE = \"6879\"\n",
    "\n",
    "#Codigo do tipo da consulta\n",
    "iTIPOCONSULTA = 1\n"
   ]
  },
  {
   "cell_type": "code",
   "execution_count": 14,
   "metadata": {},
   "outputs": [],
   "source": [
    "def buscaDados( iTIPOCONSULTA, iCITY, iTOKEN, iCIDADE ):\n",
    "    iTOKEN = \"Informe seu Token\"\n",
    "    iCIDADE = \"6879\"\n",
    "    iCITY = \"Belo Horizonte\"\n",
    "    iTOKEN = \"Informe seu Token\"\n",
    "    iCIDADE = \"Informe o ID da cidade vinculada ao seu Token\"\n",
    "\n",
    "    #Codigo do tipo da consulta\n",
    "    #iTIPOCONSULTA = 1\n",
    "\n",
    "    #1=Tempo agora na cidade\n",
    "    if iTIPOCONSULTA == 1:\n",
    "        iURL = \"http://apiadvisor.climatempo.com.br/api/v1/weather/locale/\" + iCIDADE + \"/current?token=\" + iTOKEN\n",
    "        iRESPONSE = requests.request(\"GET\", iURL)\n",
    "        iRETORNO_REQ = json.loads(iRESPONSE.text)\n",
    "        print(iRETORNO_REQ)\n",
    "\n",
    "        for iCHAVE in iRETORNO_REQ:\n",
    "            print(iCHAVE + \" : \" + str(iRETORNO_REQ[iCHAVE]))\n",
    "\n",
    "        for iCHAVE in iRETORNO_REQ['data']:\n",
    "            print(iCHAVE + \" : \" + str(iRETORNO_REQ['data'][iCHAVE]) )\n",
    "\n",
    "    #2=Status do tempo no país\n",
    "    if iTIPOCONSULTA == 2:\n",
    "        iURL = \"http://apiadvisor.climatempo.com.br/api/v1/anl/synoptic/locale/BR?token=\" + iTOKEN\n",
    "        iRESPONSE = requests.request(\"GET\", iURL)\n",
    "        iRETORNO_REQ = json.loads(iRESPONSE.text)\n",
    "        #print(iRETORNO_REQ)\n",
    "\n",
    "        for iCHAVE in iRETORNO_REQ:\n",
    "            print(\"Country: \" + iCHAVE.get('country'))\n",
    "            print(\"date: \" + iCHAVE.get('date'))\n",
    "            print(\"Text: \" + iCHAVE.get('text') + \"\\n\")\n",
    "\n",
    "    #3=Previsao para os proximas 15 dias\n",
    "    if iTIPOCONSULTA == 3:\n",
    "        iURL = \"http://apiadvisor.climatempo.com.br/api/v1/forecast/locale/\" + iCIDADE + \"/days/15?token=\" + iTOKEN\n",
    "        iRESPONSE = requests.request(\"GET\", iURL)\n",
    "        iRETORNO_REQ = json.loads(iRESPONSE.text)\n",
    "        #print(iRETORNO_REQ)\n",
    "        print(\"\\ncidade: \" + str(iRETORNO_REQ.get('name')) + \"-\" + str(iRETORNO_REQ.get('state')))\n",
    "        for iCHAVE in iRETORNO_REQ['data']:\n",
    "            iDATA = iCHAVE.get('date_br')\n",
    "            iCHUVA = iCHAVE['rain']['probability']\n",
    "            iTEXTMORNING = iCHAVE['text_icon']['text']['phrase']['reduced']\n",
    "            iTEMPERATURAMIN = iCHAVE['temperature']['min']\n",
    "            iTEMPERATURAMAX = iCHAVE['temperature']['min']\n",
    "            print(\"data: \" + str(iDATA) + \" chuva: \" + str(iCHUVA) + \"%\" + \" temp: min(\" + str(iTEMPERATURAMIN) + \") max(\" + str(iTEMPERATURAMAX) + \") resumo: \" + str(iTEXTMORNING) + \"\\n\")\n",
    "\n",
    "    #4=Previsao para os proximas 3 dias por regiao\n",
    "    if iTIPOCONSULTA == 4:\n",
    "        iURL = \"http://apiadvisor.climatempo.com.br/api/v1/forecast/region/centro-oeste?token=\" + iTOKEN\n",
    "        iRESPONSE = requests.request(\"GET\", iURL)\n",
    "        iRETORNO_REQ = json.loads(iRESPONSE.text)\n",
    "        #print(iRETORNO_REQ)\n",
    "\n",
    "        for iCHAVE in iRETORNO_REQ['data']:\n",
    "            iDATA = iCHAVE.get('date_br')\n",
    "            iTEXT = (iCHAVE.get('text'))\n",
    "            if iTEXT == None:\n",
    "                iTEXT = \"sem dados para esta data\"\n",
    "            print(\"data: \" + str(iDATA) + \" texto: \" + str(iTEXT) + \"\\n\")\n",
    "\n",
    "    #5=Previsao para as proximas 72 horas\n",
    "    if iTIPOCONSULTA == 5:\n",
    "        iURL = \"http://apiadvisor.climatempo.com.br/api/v1/forecast/locale/\" + iCIDADE + \"/hours/72?token=\" + iTOKEN\n",
    "        iRESPONSE = requests.request(\"GET\", iURL)\n",
    "        iRETORNO_REQ = json.loads(iRESPONSE.text)\n",
    "        #print(iRETORNO_REQ)\n",
    "\n",
    "        for iCHAVE in iRETORNO_REQ['data']:\n",
    "            iDATA = iCHAVE.get('date_br')\n",
    "            iTEMPERATURA = iCHAVE['temperature']['temperature']\n",
    "            print(\"data:\" + str(iDATA) + \" \" + str(iTEMPERATURA) + \"º\" + \"\\n\")\n",
    "\n",
    "    #6=Pesquisa ID da Cidade\n",
    "    if iTIPOCONSULTA == 6:\n",
    "        iCITY = input('Informe aqui o nome da cidade: ')\n",
    "        iURL = \"http://apiadvisor.climatempo.com.br/api/v1/locale/city?name=\" + iCITY + \"&token=\" + iTOKEN\n",
    "        iRESPONSE = requests.request(\"GET\", iURL)\n",
    "        iRETORNO_REQ = json.loads(iRESPONSE.text)\n",
    "        #print(iRETORNO_REQ)\n",
    "\n",
    "        for iCHAVE in iRETORNO_REQ:\n",
    "            iID = iCHAVE['id']\n",
    "            iNAME = iCHAVE['name']\n",
    "            iSTATE = iCHAVE['state']\n",
    "            iCOUNTRY = iCHAVE['country']\n",
    "            print(\"id:\" + str(iID) + \" - \" + \"stlocalesidate:\" + str(iSTATE) + \" - \" + \"country:\" + str(iCOUNTRY) + \" - \" + \"name:\" + str(iNAME) + \"\\n\") \n",
    "\n",
    "        iNEWCITY = input('Informe o ID da nova cidade ou 0(zero) para sair: ')\n",
    "        if iNEWCITY != \"0\":\n",
    "            iURL = \"http://apiadvisor.climatempo.com.br/api-manager/user-token/\"+ iTOKEN + \"/locales\" \n",
    "            payload=\"localeId[]=\" + iNEWCITY\n",
    "            headers = {\n",
    "            'Content-Type': 'application/x-www-form-urlencoded'\n",
    "            }\n",
    "            iRESPONSE = requests.request(\"PUT\", iURL, headers=headers, data=payload)\n",
    "            print(iRESPONSE.text)\n",
    "        else:\n",
    "            exit()\n",
    "\n",
    "    #7=Pesquisar o id da cidade vinculado ao seu Token\n",
    "    if iTIPOCONSULTA == 7:\n",
    "        iURL = \"http://apiadvisor.climatempo.com.br/api-manager/user-token/\" + iTOKEN + \"/locales\" \n",
    "        iRESPONSE = requests.request(\"GET\", iURL)\n",
    "        iRETORNO_REQ = json.loads(iRESPONSE.text)\n",
    "        print(\"id: \" + str(iRETORNO_REQ['locales']))\n",
    "\n",
    "    #8=Pesquisar a cidade por ID\n",
    "    if iTIPOCONSULTA == 8:\n",
    "        iURL = \"http://apiadvisor.climatempo.com.br/api/v1/locale/city/\" + iCIDADE + \"?token=\" + iTOKEN \n",
    "        iRESPONSE = requests.request(\"GET\", iURL)\n",
    "        iRETORNO_REQ = json.loads(iRESPONSE.text)\n",
    "        #print(iRETORNO_REQ)\n",
    "\n",
    "        print(\"id: \" + str(iRETORNO_REQ.get('id')))\n",
    "        print(\"name: \" + str(iRETORNO_REQ.get('name')))\n",
    "        print(\"state: \" + str(iRETORNO_REQ.get('state')))\n",
    "        print(\"country: \" + str(iRETORNO_REQ.get('country')) + \"\\n\")\n",
    "\n",
    "    #9=Alterar o ID da cidade relacionada ao Token\n",
    "    if iTIPOCONSULTA == 9:\n",
    "        iURL = \"http://apiadvisor.climatempo.com.br/api-manager/user-token/\"+ iTOKEN + \"/locales\" \n",
    "        payload=\"localeId[]=\" + iCIDADE\n",
    "        headers = {\n",
    "        'Content-Type': 'application/x-www-form-urlencoded'\n",
    "        }\n",
    "        iRESPONSE = requests.request(\"PUT\", iURL, headers=headers, data=payload)\n",
    "        print(iRESPONSE.text)\n",
    "\n",
    "        #################################################################\n",
    "        return\n",
    "    ###############################\n",
    "\n",
    "\n",
    "\n",
    "\n",
    "    "
   ]
  },
  {
   "cell_type": "code",
   "execution_count": null,
   "metadata": {},
   "outputs": [],
   "source": [
    "def buscaIDCidade():\n",
    "    iCITY = \"Belo Horizonte\"\n",
    "    iURL = \"http://apiadvisor.climatempo.com.br/api/v1/locale/city?name=\" + iCITY + \"&token=\" + iTOKEN\n",
    "    iRESPONSE = requests.request(\"GET\", iURL)\n",
    "    iRETORNO_REQ = json.loads(iRESPONSE.text)\n",
    "    print(iRETORNO_REQ)\n",
    "    \n",
    "    return bla"
   ]
  },
  {
   "cell_type": "code",
   "execution_count": null,
   "metadata": {},
   "outputs": [],
   "source": [
    "print(buscaIDCidade())"
   ]
  },
  {
   "cell_type": "code",
   "execution_count": null,
   "metadata": {},
   "outputs": [],
   "source": [
    "def buscaTempoAtual(iCIDADE, iTOKEN):\n",
    "    iURL = \"http://apiadvisor.climatempo.com.br/api/v1/weather/locale/\" + iCIDADE + \"/current?token=\" + iTOKEN\n",
    "    iRESPONSE = requests.request(\"GET\", iURL)\n",
    "    iRETORNO_REQ = json.loads(iRESPONSE.text)\n",
    "    print(iRETORNO_REQ)\n",
    "\n",
    "    for iCHAVE in iRETORNO_REQ:\n",
    "        print(iCHAVE + \" : \" + str(iRETORNO_REQ[iCHAVE]))\n",
    "\n",
    "    for iCHAVE in iRETORNO_REQ['data']:\n",
    "        print(iCHAVE + \" : \" + str(iRETORNO_REQ['data'][iCHAVE]) )"
   ]
  },
  {
   "cell_type": "code",
   "execution_count": null,
   "metadata": {},
   "outputs": [],
   "source": [
    "\n",
    "iTOKEN = \"5c71d869f5693cab0fb02c39da8d1cc4\"\n",
    "#ID DE BH\n",
    "iCIDADE = \"6879\"\n",
    "buscaTempoAtual(iCIDADE,iTOKEN)"
   ]
  },
  {
   "cell_type": "code",
   "execution_count": 22,
   "metadata": {},
   "outputs": [
    {
     "name": "stdout",
     "output_type": "stream",
     "text": [
      "{'max_allowed': 1, 'locales': []}\n"
     ]
    }
   ],
   "source": [
    "iURL = \"http://apiadvisor.climatempo.com.br/api-manager/user-token/\" + iTOKEN + \"/locales\" \n",
    "iRESPONSE = requests.request(\"GET\", iURL)\n",
    "iRETORNO_REQ = json.loads(iRESPONSE.text)\n",
    "print(iRETORNO_REQ)"
   ]
  },
  {
   "cell_type": "code",
   "execution_count": 24,
   "metadata": {},
   "outputs": [
    {
     "name": "stdout",
     "output_type": "stream",
     "text": [
      "id:6879 - stlocalesidate:MG - country:BR   - name:Belo Horizonte\n",
      "\n"
     ]
    }
   ],
   "source": [
    "iCITY = 'Belo Horizonte'\n",
    "iURL = \"http://apiadvisor.climatempo.com.br/api/v1/locale/city?name=\" + iCITY + \"&token=\" + iTOKEN\n",
    "iRESPONSE = requests.request(\"GET\", iURL)\n",
    "iRETORNO_REQ = json.loads(iRESPONSE.text)\n",
    "#print(iRETORNO_REQ)\n",
    "\n",
    "for iCHAVE in iRETORNO_REQ:\n",
    "    iID = iCHAVE['id']\n",
    "    iNAME = iCHAVE['name']\n",
    "    iSTATE = iCHAVE['state']\n",
    "    iCOUNTRY = iCHAVE['country']\n",
    "    print(\"id:\" + str(iID) + \" - \" + \"stlocalesidate:\" + str(iSTATE) + \" - \" + \"country:\" + str(iCOUNTRY) + \" - \" + \"name:\" + str(iNAME) + \"\\n\") \n"
   ]
  },
  {
   "cell_type": "code",
   "execution_count": 25,
   "metadata": {},
   "outputs": [],
   "source": [
    "def buscaDados( teste1, teste2, teste3 ):\n",
    "    print(teste1)\n",
    "    print(teste3)\n",
    "    print(teste2)\n",
    "    return\n"
   ]
  },
  {
   "cell_type": "code",
   "execution_count": 26,
   "metadata": {},
   "outputs": [
    {
     "name": "stdout",
     "output_type": "stream",
     "text": [
      "b\n",
      "teste\n",
      "2\n"
     ]
    }
   ],
   "source": [
    "buscaDados(4, Belo Horizonte, iTOKEN, iCIDADE)"
   ]
  },
  {
   "cell_type": "code",
   "execution_count": null,
   "metadata": {},
   "outputs": [],
   "source": [
    "\n",
    "    "
   ]
  }
 ],
 "metadata": {
  "kernelspec": {
   "display_name": "Python 3",
   "language": "python",
   "name": "python3"
  },
  "language_info": {
   "codemirror_mode": {
    "name": "ipython",
    "version": 3
   },
   "file_extension": ".py",
   "mimetype": "text/x-python",
   "name": "python",
   "nbconvert_exporter": "python",
   "pygments_lexer": "ipython3",
   "version": "3.7.6"
  }
 },
 "nbformat": 4,
 "nbformat_minor": 4
}
