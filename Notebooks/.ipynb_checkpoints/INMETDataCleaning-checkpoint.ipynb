{
 "cells": [
  {
   "cell_type": "code",
   "execution_count": 1,
   "metadata": {},
   "outputs": [],
   "source": [
    "#TRATAMENTO DE DADOS DE METEOROLOGIA DO INMET(2020)\n",
    "import pandas as pd\n",
    "import numpy as np\n",
    "\n",
    "#Os dados tiveram de ser manipulados no NOTEPAD++, ponto e vírgul \";\" que separavam colunas foram substituidas por virgulas\n",
    "#Casas decimais foram utilizavam o método brasileiro \",\", agora utiliza ponto \".\".\n",
    "#Dados incompletos com decimal sem dígito mais significativo foram considerados null\n",
    "dados_inmet_bh_2020 = pd.read_csv(\"/home/marcelo/Documentos/PosGraduacaoDataScience/Disciplinas/Monografia/DadosMonografia/DadosBHCercadinho2020.csv\")"
   ]
  },
  {
   "cell_type": "code",
   "execution_count": null,
   "metadata": {},
   "outputs": [],
   "source": []
  },
  {
   "cell_type": "code",
   "execution_count": 2,
   "metadata": {},
   "outputs": [
    {
     "name": "stdout",
     "output_type": "stream",
     "text": [
      "<class 'pandas.core.frame.DataFrame'>\n",
      "RangeIndex: 8781 entries, 0 to 8780\n",
      "Data columns (total 19 columns):\n",
      " #   Column                                                 Non-Null Count  Dtype  \n",
      "---  ------                                                 --------------  -----  \n",
      " 0   Data                                                   8781 non-null   object \n",
      " 1   Hora UTC                                               8781 non-null   object \n",
      " 2   PRECIPITACAO TOTAL. HORARIO (mm)                       8764 non-null   float64\n",
      " 3   PRESSAO ATMOSFERICA AO NIVEL DA ESTACAO. HORARIA (mB)  8764 non-null   float64\n",
      " 4   PRESSAO ATMOSFERICA MAX.NA HORA ANT. (AUT) (mB)        8764 non-null   float64\n",
      " 5   PRESSAO ATMOSFERICA MIN. NA HORA ANT. (AUT) (mB)       8764 non-null   float64\n",
      " 6   RADIACAO GLOBAL (Kj/m3)                                4881 non-null   float64\n",
      " 7   TEMPERATURA DO AR - BULBO SECO. HORARIA (Celsius)      8764 non-null   float64\n",
      " 8   TEMPERATURA DO PONTO DE ORVALHO (Celsius)              8764 non-null   float64\n",
      " 9   TEMPERATURA MAXIMA NA HORA ANT. (AUT) (Celsius)        8764 non-null   float64\n",
      " 10  TEMPERATURA MAXIMA NA HORA ANT. (AUT) (Celsius).1      8764 non-null   float64\n",
      " 11  TEMPERATURA ORVALHO MAX. NA HORA ANT. (AUT) (Celsius)  8764 non-null   float64\n",
      " 12  TEMPERATURA ORVALHO MIN. NA HORA ANT. (AUT) (Celsius)  8764 non-null   float64\n",
      " 13  UMIDADE REL. MAX. NA HORA ANT. (AUT) (%)               8764 non-null   float64\n",
      " 14  UMIDADE REL. MIN. NA HORA ANT. (AUT) (%)               8764 non-null   float64\n",
      " 15  UMIDADE RELATIVA DO AR. HORARIA (%)                    8764 non-null   float64\n",
      " 16  VENTO. DIRECAO HORARIA (gr) ((gr))                     8763 non-null   float64\n",
      " 17  VENTO. RAJADA MAXIMA (m/s)                             8763 non-null   float64\n",
      " 18  VENTO. VELOCIDADE HORARIA (m/s);                       8763 non-null   float64\n",
      "dtypes: float64(17), object(2)\n",
      "memory usage: 1.3+ MB\n"
     ]
    }
   ],
   "source": [
    "dados_inmet_bh_2020.info()"
   ]
  },
  {
   "cell_type": "code",
   "execution_count": 3,
   "metadata": {},
   "outputs": [
    {
     "data": {
      "text/plain": [
       "Data                                                        0\n",
       "Hora UTC                                                    0\n",
       "PRECIPITACAO TOTAL. HORARIO (mm)                           17\n",
       "PRESSAO ATMOSFERICA AO NIVEL DA ESTACAO. HORARIA (mB)      17\n",
       "PRESSAO ATMOSFERICA MAX.NA HORA ANT. (AUT) (mB)            17\n",
       "PRESSAO ATMOSFERICA MIN. NA HORA ANT. (AUT) (mB)           17\n",
       "RADIACAO GLOBAL (Kj/m3)                                  3900\n",
       "TEMPERATURA DO AR - BULBO SECO. HORARIA (Celsius)          17\n",
       "TEMPERATURA DO PONTO DE ORVALHO (Celsius)                  17\n",
       "TEMPERATURA MAXIMA NA HORA ANT. (AUT) (Celsius)            17\n",
       "TEMPERATURA MAXIMA NA HORA ANT. (AUT) (Celsius).1          17\n",
       "TEMPERATURA ORVALHO MAX. NA HORA ANT. (AUT) (Celsius)      17\n",
       "TEMPERATURA ORVALHO MIN. NA HORA ANT. (AUT) (Celsius)      17\n",
       "UMIDADE REL. MAX. NA HORA ANT. (AUT) (%)                   17\n",
       "UMIDADE REL. MIN. NA HORA ANT. (AUT) (%)                   17\n",
       "UMIDADE RELATIVA DO AR. HORARIA (%)                        17\n",
       "VENTO. DIRECAO HORARIA (gr) ((gr))                         18\n",
       "VENTO. RAJADA MAXIMA (m/s)                                 18\n",
       "VENTO. VELOCIDADE HORARIA (m/s);                           18\n",
       "dtype: int64"
      ]
     },
     "execution_count": 3,
     "metadata": {},
     "output_type": "execute_result"
    }
   ],
   "source": [
    "#Lidando com os Dados nulos\n",
    "#https://analyticsindiamag.com/5-ways-handle-missing-values-machine-learning-datasets/\n",
    "dados_inmet_bh_2020.isnull().sum()"
   ]
  },
  {
   "cell_type": "code",
   "execution_count": 4,
   "metadata": {},
   "outputs": [
    {
     "name": "stdout",
     "output_type": "stream",
     "text": [
      "<class 'pandas.core.frame.DataFrame'>\n",
      "RangeIndex: 8781 entries, 0 to 8780\n",
      "Data columns (total 18 columns):\n",
      " #   Column                                                 Non-Null Count  Dtype  \n",
      "---  ------                                                 --------------  -----  \n",
      " 0   Data                                                   8781 non-null   object \n",
      " 1   Hora UTC                                               8781 non-null   object \n",
      " 2   PRECIPITACAO TOTAL. HORARIO (mm)                       8764 non-null   float64\n",
      " 3   PRESSAO ATMOSFERICA AO NIVEL DA ESTACAO. HORARIA (mB)  8764 non-null   float64\n",
      " 4   PRESSAO ATMOSFERICA MAX.NA HORA ANT. (AUT) (mB)        8764 non-null   float64\n",
      " 5   PRESSAO ATMOSFERICA MIN. NA HORA ANT. (AUT) (mB)       8764 non-null   float64\n",
      " 6   TEMPERATURA DO AR - BULBO SECO. HORARIA (Celsius)      8764 non-null   float64\n",
      " 7   TEMPERATURA DO PONTO DE ORVALHO (Celsius)              8764 non-null   float64\n",
      " 8   TEMPERATURA MAXIMA NA HORA ANT. (AUT) (Celsius)        8764 non-null   float64\n",
      " 9   TEMPERATURA MAXIMA NA HORA ANT. (AUT) (Celsius).1      8764 non-null   float64\n",
      " 10  TEMPERATURA ORVALHO MAX. NA HORA ANT. (AUT) (Celsius)  8764 non-null   float64\n",
      " 11  TEMPERATURA ORVALHO MIN. NA HORA ANT. (AUT) (Celsius)  8764 non-null   float64\n",
      " 12  UMIDADE REL. MAX. NA HORA ANT. (AUT) (%)               8764 non-null   float64\n",
      " 13  UMIDADE REL. MIN. NA HORA ANT. (AUT) (%)               8764 non-null   float64\n",
      " 14  UMIDADE RELATIVA DO AR. HORARIA (%)                    8764 non-null   float64\n",
      " 15  VENTO. DIRECAO HORARIA (gr) ((gr))                     8763 non-null   float64\n",
      " 16  VENTO. RAJADA MAXIMA (m/s)                             8763 non-null   float64\n",
      " 17  VENTO. VELOCIDADE HORARIA (m/s);                       8763 non-null   float64\n",
      "dtypes: float64(16), object(2)\n",
      "memory usage: 1.2+ MB\n"
     ]
    }
   ],
   "source": [
    "#Pelo volume de dados nulos encontrados  na variavel \"Radiação global\" optamos por deletar a coluna RADIACAO GLOBAL (Kj/m3) \n",
    "#Pois o volume de dados nulos era igual a 44,39%, caso esses dados fossem deletados do dataset, poderiam comprometer a acuracia do modelo\n",
    "\n",
    "dados_inmet_bh_2020=dados_inmet_bh_2020.drop(['RADIACAO GLOBAL (Kj/m3)'], axis=1)\n",
    "dados_inmet_bh_2020.info()\n",
    "\n"
   ]
  },
  {
   "cell_type": "code",
   "execution_count": null,
   "metadata": {},
   "outputs": [],
   "source": []
  },
  {
   "cell_type": "code",
   "execution_count": 5,
   "metadata": {},
   "outputs": [
    {
     "data": {
      "text/plain": [
       "8.640807942485482"
      ]
     },
     "execution_count": 5,
     "metadata": {},
     "output_type": "execute_result"
    }
   ],
   "source": [
    "first_column = dados_inmet_bh_2020.iloc[:, 16]\n",
    "first_column.mean()"
   ]
  },
  {
   "cell_type": "code",
   "execution_count": 6,
   "metadata": {},
   "outputs": [],
   "source": [
    "for x in range(2, 18):\n",
    "  dados_inmet_bh_2020.iloc[:, x] = dados_inmet_bh_2020.iloc[:, x].replace(np.NaN, dados_inmet_bh_2020.iloc[:, x].mean())\n",
    "  #print(dados_inmet_bh_2020.iloc[:, 2].mean()\n",
    "  \n",
    "\n",
    "    \n",
    "  "
   ]
  },
  {
   "cell_type": "code",
   "execution_count": 202,
   "metadata": {},
   "outputs": [],
   "source": [
    "for x in range(2, 18):\n",
    "  #dados_inmet_bh_2020.iloc[:, x].replace(np.NaN, dados_inmet_bh_2020.iloc[:, x].mean())"
   ]
  },
  {
   "cell_type": "code",
   "execution_count": 7,
   "metadata": {},
   "outputs": [
    {
     "name": "stdout",
     "output_type": "stream",
     "text": [
      "<class 'pandas.core.frame.DataFrame'>\n",
      "RangeIndex: 8781 entries, 0 to 8780\n",
      "Data columns (total 18 columns):\n",
      " #   Column                                                 Non-Null Count  Dtype  \n",
      "---  ------                                                 --------------  -----  \n",
      " 0   Data                                                   8781 non-null   object \n",
      " 1   Hora UTC                                               8781 non-null   object \n",
      " 2   PRECIPITACAO TOTAL. HORARIO (mm)                       8781 non-null   float64\n",
      " 3   PRESSAO ATMOSFERICA AO NIVEL DA ESTACAO. HORARIA (mB)  8781 non-null   float64\n",
      " 4   PRESSAO ATMOSFERICA MAX.NA HORA ANT. (AUT) (mB)        8781 non-null   float64\n",
      " 5   PRESSAO ATMOSFERICA MIN. NA HORA ANT. (AUT) (mB)       8781 non-null   float64\n",
      " 6   TEMPERATURA DO AR - BULBO SECO. HORARIA (Celsius)      8781 non-null   float64\n",
      " 7   TEMPERATURA DO PONTO DE ORVALHO (Celsius)              8781 non-null   float64\n",
      " 8   TEMPERATURA MAXIMA NA HORA ANT. (AUT) (Celsius)        8781 non-null   float64\n",
      " 9   TEMPERATURA MAXIMA NA HORA ANT. (AUT) (Celsius).1      8781 non-null   float64\n",
      " 10  TEMPERATURA ORVALHO MAX. NA HORA ANT. (AUT) (Celsius)  8781 non-null   float64\n",
      " 11  TEMPERATURA ORVALHO MIN. NA HORA ANT. (AUT) (Celsius)  8781 non-null   float64\n",
      " 12  UMIDADE REL. MAX. NA HORA ANT. (AUT) (%)               8781 non-null   float64\n",
      " 13  UMIDADE REL. MIN. NA HORA ANT. (AUT) (%)               8781 non-null   float64\n",
      " 14  UMIDADE RELATIVA DO AR. HORARIA (%)                    8781 non-null   float64\n",
      " 15  VENTO. DIRECAO HORARIA (gr) ((gr))                     8781 non-null   float64\n",
      " 16  VENTO. RAJADA MAXIMA (m/s)                             8781 non-null   float64\n",
      " 17  VENTO. VELOCIDADE HORARIA (m/s);                       8781 non-null   float64\n",
      "dtypes: float64(16), object(2)\n",
      "memory usage: 1.2+ MB\n"
     ]
    },
    {
     "data": {
      "text/plain": [
       "Data                                                     0\n",
       "Hora UTC                                                 0\n",
       "PRECIPITACAO TOTAL. HORARIO (mm)                         0\n",
       "PRESSAO ATMOSFERICA AO NIVEL DA ESTACAO. HORARIA (mB)    0\n",
       "PRESSAO ATMOSFERICA MAX.NA HORA ANT. (AUT) (mB)          0\n",
       "PRESSAO ATMOSFERICA MIN. NA HORA ANT. (AUT) (mB)         0\n",
       "TEMPERATURA DO AR - BULBO SECO. HORARIA (Celsius)        0\n",
       "TEMPERATURA DO PONTO DE ORVALHO (Celsius)                0\n",
       "TEMPERATURA MAXIMA NA HORA ANT. (AUT) (Celsius)          0\n",
       "TEMPERATURA MAXIMA NA HORA ANT. (AUT) (Celsius).1        0\n",
       "TEMPERATURA ORVALHO MAX. NA HORA ANT. (AUT) (Celsius)    0\n",
       "TEMPERATURA ORVALHO MIN. NA HORA ANT. (AUT) (Celsius)    0\n",
       "UMIDADE REL. MAX. NA HORA ANT. (AUT) (%)                 0\n",
       "UMIDADE REL. MIN. NA HORA ANT. (AUT) (%)                 0\n",
       "UMIDADE RELATIVA DO AR. HORARIA (%)                      0\n",
       "VENTO. DIRECAO HORARIA (gr) ((gr))                       0\n",
       "VENTO. RAJADA MAXIMA (m/s)                               0\n",
       "VENTO. VELOCIDADE HORARIA (m/s);                         0\n",
       "dtype: int64"
      ]
     },
     "execution_count": 7,
     "metadata": {},
     "output_type": "execute_result"
    }
   ],
   "source": [
    "#Analisando volume de dados nulos \n",
    "dados_inmet_bh_2020.info()\n",
    "dados_inmet_bh_2020.isnull().sum()"
   ]
  },
  {
   "cell_type": "code",
   "execution_count": null,
   "metadata": {},
   "outputs": [],
   "source": [
    "dados_inmet_bh_2020print(dados_inmet_bh_2020.iloc[:, 3].replace(np.NaN, dados_inmet_bh_2020.iloc[:, 3].mean()))\n",
    "print(dados_inmet_bh_2020.iloc[:, 3].mean())"
   ]
  },
  {
   "cell_type": "code",
   "execution_count": 203,
   "metadata": {},
   "outputs": [
    {
     "name": "stdout",
     "output_type": "stream",
     "text": [
      "0       0.0\n",
      "1       0.0\n",
      "2       0.0\n",
      "3       0.0\n",
      "4       0.0\n",
      "       ... \n",
      "8776    0.0\n",
      "8777    0.0\n",
      "8778    0.0\n",
      "8779    0.0\n",
      "8780    0.0\n",
      "Name: PRECIPITACAO TOTAL. HORARIO (mm), Length: 8781, dtype: float64\n"
     ]
    }
   ],
   "source": [
    "print(dados_inmet_bh_2020.iloc[:, 2])"
   ]
  },
  {
   "cell_type": "code",
   "execution_count": 10,
   "metadata": {},
   "outputs": [
    {
     "name": "stdout",
     "output_type": "stream",
     "text": [
      "<class 'pandas.core.frame.DataFrame'>\n",
      "RangeIndex: 8781 entries, 0 to 8780\n",
      "Data columns (total 18 columns):\n",
      " #   Column                                                 Non-Null Count  Dtype  \n",
      "---  ------                                                 --------------  -----  \n",
      " 0   Data                                                   8781 non-null   object \n",
      " 1   Hora UTC                                               8781 non-null   object \n",
      " 2   PRECIPITACAO TOTAL. HORARIO (mm)                       8781 non-null   float64\n",
      " 3   PRESSAO ATMOSFERICA AO NIVEL DA ESTACAO. HORARIA (mB)  8781 non-null   float64\n",
      " 4   PRESSAO ATMOSFERICA MAX.NA HORA ANT. (AUT) (mB)        8781 non-null   float64\n",
      " 5   PRESSAO ATMOSFERICA MIN. NA HORA ANT. (AUT) (mB)       8781 non-null   float64\n",
      " 6   TEMPERATURA DO AR - BULBO SECO. HORARIA (Celsius)      8781 non-null   float64\n",
      " 7   TEMPERATURA DO PONTO DE ORVALHO (Celsius)              8781 non-null   float64\n",
      " 8   TEMPERATURA MAXIMA NA HORA ANT. (AUT) (Celsius)        8781 non-null   float64\n",
      " 9   TEMPERATURA MAXIMA NA HORA ANT. (AUT) (Celsius).1      8781 non-null   float64\n",
      " 10  TEMPERATURA ORVALHO MAX. NA HORA ANT. (AUT) (Celsius)  8781 non-null   float64\n",
      " 11  TEMPERATURA ORVALHO MIN. NA HORA ANT. (AUT) (Celsius)  8781 non-null   float64\n",
      " 12  UMIDADE REL. MAX. NA HORA ANT. (AUT) (%)               8781 non-null   float64\n",
      " 13  UMIDADE REL. MIN. NA HORA ANT. (AUT) (%)               8781 non-null   float64\n",
      " 14  UMIDADE RELATIVA DO AR. HORARIA (%)                    8781 non-null   float64\n",
      " 15  VENTO. DIRECAO HORARIA (gr) ((gr))                     8781 non-null   float64\n",
      " 16  VENTO. RAJADA MAXIMA (m/s)                             8781 non-null   float64\n",
      " 17  VENTO. VELOCIDADE HORARIA (m/s);                       8781 non-null   float64\n",
      "dtypes: float64(16), object(2)\n",
      "memory usage: 1.2+ MB\n"
     ]
    }
   ],
   "source": [
    "#Salvando os Dados em CSV\n",
    "dados_inmet_bh_2020.info()\n",
    "#df.to_csv (r'C:\\Users\\Ron\\Desktop\\export_dataframe.csv', index = False, header=True)\n",
    "dados_inmet_bh_2020.to_csv (r'/home/marcelo/Documentos/PosGraduacaoDataScience/Disciplinas/Monografia/DadosMonografia/dados_inmet_filtrados_2020.csv', index = False, header=True)\n"
   ]
  },
  {
   "cell_type": "code",
   "execution_count": null,
   "metadata": {},
   "outputs": [],
   "source": []
  }
 ],
 "metadata": {
  "kernelspec": {
   "display_name": "Python 3",
   "language": "python",
   "name": "python3"
  },
  "language_info": {
   "codemirror_mode": {
    "name": "ipython",
    "version": 3
   },
   "file_extension": ".py",
   "mimetype": "text/x-python",
   "name": "python",
   "nbconvert_exporter": "python",
   "pygments_lexer": "ipython3",
   "version": "3.7.6"
  }
 },
 "nbformat": 4,
 "nbformat_minor": 4
}
